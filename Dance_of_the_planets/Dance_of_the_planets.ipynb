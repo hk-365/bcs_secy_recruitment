{
  "nbformat": 4,
  "nbformat_minor": 0,
  "metadata": {
    "colab": {
      "provenance": [],
      "gpuType": "T4"
    },
    "kernelspec": {
      "name": "python3",
      "display_name": "Python 3"
    },
    "language_info": {
      "name": "python"
    },
    "accelerator": "GPU"
  },
  "cells": [
    {
      "cell_type": "code",
      "execution_count": null,
      "metadata": {
        "id": "owYY1cbvAoXW"
      },
      "outputs": [],
      "source": [
        "import matplotlib\n",
        "import torch\n",
        "import torch.nn as nn\n",
        "import numpy as np\n",
        "import matplotlib.pyplot as plt\n",
        "from scipy.integrate import odeint\n",
        "%matplotlib inline"
      ]
    },
    {
      "cell_type": "markdown",
      "source": [
        "User input cell"
      ],
      "metadata": {
        "id": "fe2zqaYCZ0Do"
      }
    },
    {
      "cell_type": "code",
      "source": [
        "1#take user input for mass\n",
        "m1= float(input(\"Enter mass m1: \"))\n",
        "m2=float(input(\"Enter mass m2: \"))\n",
        "#take user input for x1,x2,v1,v2\n",
        "x1_input= input((\"Enter initial coordinates of x1 as two space seperated values: \"))\n",
        "x10= [float(i) for i in  x1_input.split()]\n",
        "x2_input= input((\"Enter initial coordinates of x2 as two space seperated values: \"))\n",
        "x20= [float(i) for i in  x2_input.split()]\n",
        "v1_input= input((\"Enter initial coordinates of v1 as two space seperated values: \"))\n",
        "v10= [float(i) for i in  v1_input.split()]\n",
        "v2_input= input((\"Enter initial coordinates of v2 as two space seperated values: \"))\n",
        "v20= [float(i) for i in  v2_input.split()]\n",
        "#take user input for Time of prediction of position\n",
        "t_pred=float(input(\"Enter time of prediction of position: \"))\n",
        "G = 1  #gravitational constant"
      ],
      "metadata": {
        "colab": {
          "base_uri": "https://localhost:8080/"
        },
        "id": "FWUkqWISAzNK",
        "outputId": "a6c86768-d3b8-45a3-a9ef-a9284af2c99f"
      },
      "execution_count": null,
      "outputs": [
        {
          "name": "stdout",
          "output_type": "stream",
          "text": [
            "Enter mass m1: 1.0\n",
            "Enter mass m2: 1.0\n",
            "Enter initial coordinates of x1 as two space seperated values: -1.0 0.0\n",
            "Enter initial coordinates of x2 as two space seperated values: 1.0 0.0\n",
            "Enter initial coordinates of v1 as two space seperated values: 0.0 -0.5\n",
            "Enter initial coordinates of v2 as two space seperated values: 0.0 0.5\n",
            "Enter time of prediction of position: 0.5\n"
          ]
        }
      ]
    },
    {
      "cell_type": "markdown",
      "source": [
        "Fully connected neural network model to use for PINN"
      ],
      "metadata": {
        "id": "WzgMLqnIZ-6c"
      }
    },
    {
      "cell_type": "code",
      "source": [
        "class FCN(nn.Module):\n",
        "    '''\n",
        "    N_input= no. of input nueron i.e. 1 (time)\n",
        "    N_output= no. of output nueron i.e. 4 (x1[0],x1[1],x2[0],x2[1])\n",
        "    N_hidden= no. nuerons in each hidden layer\n",
        "    N_layers= no. of hidden layers\n",
        "    '''\n",
        "    def __init__(self, N_input, N_output, N_hidden, N_layers):\n",
        "        super().__init__()\n",
        "        activation=nn.Tanh   #using tanh activation function\n",
        "        self.fcs = nn.Sequential(\n",
        "            nn.Linear(N_input, N_hidden),   # initial linear layer mapping from input size to hidden size\n",
        "            activation())\n",
        "\n",
        "        fch_layers = []\n",
        "        for _ in range(N_layers-1):         # N_layers-1 hidden layers added after first hidden layer defined earlier\n",
        "            fch_layers.append(nn.Linear(N_hidden, N_hidden))\n",
        "            fch_layers.append(activation())\n",
        "        self.fch = nn.Sequential(*fch_layers)\n",
        "\n",
        "        self.fce= nn.Linear(N_hidden,N_output)  # linear layer mapping from hidden size to output size.\n",
        "    def forward(self,x):\n",
        "        x=self.fcs(x)\n",
        "        x=self.fch(x)\n",
        "        x=self.fce(x)\n",
        "        return x  # data x passes through all the layers and returns output."
      ],
      "metadata": {
        "id": "j0j9D-1FA2OA"
      },
      "execution_count": null,
      "outputs": []
    },
    {
      "cell_type": "markdown",
      "source": [
        "Training the model over training dataset (implemented ode loss)"
      ],
      "metadata": {
        "id": "14QtrZ4laHfJ"
      }
    },
    {
      "cell_type": "code",
      "source": [
        "torch.manual_seed(123)\n",
        "pinn=FCN(1,4,256,30)\n",
        "#define initial point for initial condition(IC) loss\n",
        "t_initial=torch.tensor(0.).view(-1,1).requires_grad_(True)\n",
        "#define training points for ODE loss\n",
        "t_train=torch.linspace(0,1,500).view(-1,1).requires_grad_(True)\n",
        "\n",
        "#scaling factors\n",
        "max_pos = max(max(abs(x) for x in x10 + x20), 1.0)\n",
        "max_vel = max(max(abs(v) for v in v10 + v20), 1.0)\n",
        "\n",
        "x10_scaled = [x/max_pos for x in x10]\n",
        "x20_scaled = [x/ max_pos for x in x20]\n",
        "v10_scaled = [v/ max_vel for v in v10]\n",
        "v20_scaled = [v/ max_vel for v in v20]\n",
        "\n",
        "ux_ic=torch.tensor([x10_scaled[0],x10_scaled[1],x20_scaled[0],x20_scaled[1]],dtype=torch.float32) #transforming given initial condition to predicted initial condition form\n",
        "uv_ic=torch.tensor([v10_scaled[0],v10_scaled[1],v20_scaled[0],v20_scaled[1]],dtype=torch.float32)\n",
        "\n",
        "#training the PINN first only on ic loss\n",
        "optimiser=torch.optim.Adam(pinn.parameters(),lr=1e-4) #using adam optimiser with learning rate lr\n",
        "scheduler = torch.optim.lr_scheduler.StepLR(optimiser, step_size=1000, gamma=0.5)\n",
        "for i in range(2501):\n",
        "    optimiser.zero_grad()  #clears old gradients from the last step before starting a new backward pass\n",
        "\n",
        "    #computing the IC loss\n",
        "    u= pinn(t_initial)\n",
        "    loss_ic_x1= torch.mean((u[0, 0:2] - ux_ic[0:2])**2)\n",
        "    loss_ic_x2= torch.mean((u[0, 2:4] - ux_ic[2:4])**2)\n",
        "\n",
        "    v1 = []\n",
        "    for j in range(2):\n",
        "      v1_j = torch.autograd.grad(u[0, j], t_initial, torch.tensor(1.0, device=t_initial.device), create_graph=True)[0]* (max_pos/max_vel)\n",
        "      v1.append(v1_j)\n",
        "    v1 = torch.cat(v1, dim=-1)\n",
        "    v2 = []\n",
        "    for j in range(2):\n",
        "      v2_j = torch.autograd.grad(u[0, j+2], t_initial, torch.tensor(1.0, device=t_initial.device), create_graph=True)[0]* (max_pos/max_vel)\n",
        "      v2.append(v2_j)\n",
        "    v2 = torch.cat(v2, dim=-1)\n",
        "    loss_ic_v1= torch.mean((v1 - uv_ic[0:2])**2)\n",
        "    loss_ic_v2= torch.mean((v2 - uv_ic[2:4])**2)\n",
        "    loss_ic_total= (loss_ic_x1+loss_ic_x2)+100*(loss_ic_v1+loss_ic_v2)\n",
        "\n",
        "    loss_ic_total.backward()\n",
        "    torch.nn.utils.clip_grad_norm_(pinn.parameters(), 1.0)  # Gradient clip\n",
        "    optimiser.step()\n",
        "    scheduler.step()\n",
        "\n",
        "    if i % 500 == 0:\n",
        "        print(f\"Iteration {i} done loss_ic_total={loss_ic_total}\")\n",
        "\n"
      ],
      "metadata": {
        "colab": {
          "base_uri": "https://localhost:8080/"
        },
        "id": "4U7Fwt4qA55a",
        "outputId": "dfac2760-35e6-4e9d-fd40-4428f8842acf"
      },
      "execution_count": null,
      "outputs": [
        {
          "output_type": "stream",
          "name": "stdout",
          "text": [
            "Iteration 0 done loss_ic_total=25.979948043823242\n",
            "Iteration 500 done loss_ic_total=0.15473248064517975\n",
            "Iteration 1000 done loss_ic_total=0.05834696441888809\n",
            "Iteration 1500 done loss_ic_total=0.0039411443285644054\n",
            "Iteration 2000 done loss_ic_total=0.005008475389331579\n",
            "Iteration 2500 done loss_ic_total=0.0009687335113994777\n"
          ]
        }
      ]
    },
    {
      "cell_type": "code",
      "source": [
        "#training the PINN\n",
        "optimiser=torch.optim.Adam(pinn.parameters(),lr=1e-3)\n",
        "scheduler = torch.optim.lr_scheduler.StepLR(optimiser, step_size=1000, gamma=0.5)\n",
        "for i in range(15501):\n",
        "    optimiser.zero_grad()  #clears old gradients from the last step before starting a new backward pass\n",
        "\n",
        "    #computing the IC loss\n",
        "    u= pinn(t_initial)\n",
        "    loss_ic_x1= torch.mean((u[0, 0:2] - ux_ic[0:2])**2)\n",
        "    loss_ic_x2= torch.mean((u[0, 2:4] - ux_ic[2:4])**2)\n",
        "\n",
        "    v1 = []\n",
        "    for j in range(2):\n",
        "      v1_j = torch.autograd.grad(u[0, j], t_initial, torch.tensor(1.0, device=t_initial.device), create_graph=True)[0]* (max_pos/max_vel)\n",
        "      v1.append(v1_j)\n",
        "    v1 = torch.cat(v1, dim=-1)\n",
        "    v2 = []\n",
        "    for j in range(2):\n",
        "      v2_j = torch.autograd.grad(u[0, j+2], t_initial, torch.tensor(1.0, device=t_initial.device), create_graph=True)[0]* (max_pos/max_vel)\n",
        "      v2.append(v2_j)\n",
        "    v2 = torch.cat(v2, dim=-1)\n",
        "    loss_ic_v1= torch.mean((v1 - uv_ic[0:2])**2)\n",
        "    loss_ic_v2= torch.mean((v2 - uv_ic[2:4])**2)\n",
        "    loss_ic_total= (loss_ic_x1+loss_ic_x2)+50*(loss_ic_v1+loss_ic_v2)\n",
        "\n",
        "    #computing the ODE loss\n",
        "    u=pinn(t_train)\n",
        "    x1=u[:,0:2]*max_pos\n",
        "    x2=u[:,2:4]*max_pos\n",
        "    v1=torch.autograd.grad(u[:,0:2],t_train,torch.ones_like(u[:,0:2]),create_graph=True)[0]* (max_pos/max_vel)\n",
        "    v2=torch.autograd.grad(u[:,2:4],t_train,torch.ones_like(u[:,2:4]),create_graph=True)[0]* (max_pos/max_vel)\n",
        "    a1=torch.autograd.grad(v1,t_train,torch.ones_like(v1),create_graph=True)[0]* (max_pos/max_vel**2)\n",
        "    a2=torch.autograd.grad(v2,t_train,torch.ones_like(v2),create_graph=True)[0]* (max_pos/max_vel**2)\n",
        "    r_cube = torch.norm(x1 - x2, dim=1, keepdim=True)**3+ 1e-8\n",
        "    loss_ode_m2=torch.mean((a2[:, 0:2] - (x1 - x2)*m1*G/r_cube)**2)\n",
        "    loss_ode_m1=torch.mean((a1[:, 0:2] - (x2 - x1)*m2*G/r_cube)**2)\n",
        "    loss_ode_total= (loss_ode_m1+loss_ode_m2)\n",
        "\n",
        "    if i<=1000:\n",
        "        lambda1 = 1e4\n",
        "        lambda2 = 1.0\n",
        "    elif i<=2000:\n",
        "        lambda1 = 1e3\n",
        "        lambda2 = 1.0\n",
        "    elif i<=3000:\n",
        "        lambda1 = 1e1\n",
        "        lambda2 = 1.0\n",
        "    else :\n",
        "        lambda1 = 1.0\n",
        "        lambda2 = 1.0\n",
        "\n",
        "    loss_total=lambda1*loss_ic_total+lambda2*loss_ode_total\n",
        "    loss_total.backward()\n",
        "    torch.nn.utils.clip_grad_norm_(pinn.parameters(), 1.0)  # Gradient clip\n",
        "    optimiser.step()\n",
        "    scheduler.step()\n",
        "\n",
        "    if i % 500 == 0:\n",
        "        print(f\"Iteration {i} done loss_ic_total={loss_ic_total} loss_ode_total={loss_ode_total} \")"
      ],
      "metadata": {
        "colab": {
          "base_uri": "https://localhost:8080/"
        },
        "id": "NP70NMRbA8B1",
        "outputId": "0b9eb129-ca94-422e-8512-4db477ef92b7"
      },
      "execution_count": null,
      "outputs": [
        {
          "output_type": "stream",
          "name": "stdout",
          "text": [
            "Iteration 0 done loss_ic_total=0.0005792340962216258 loss_ode_total=0.7905858159065247 \n",
            "Iteration 500 done loss_ic_total=0.0697765201330185 loss_ode_total=9.63272476196289 \n",
            "Iteration 1000 done loss_ic_total=0.07499803602695465 loss_ode_total=11.935755729675293 \n",
            "Iteration 1500 done loss_ic_total=0.032216500490903854 loss_ode_total=1.8134548664093018 \n",
            "Iteration 2000 done loss_ic_total=0.005375828128308058 loss_ode_total=1.1511189937591553 \n",
            "Iteration 2500 done loss_ic_total=0.00602522399276495 loss_ode_total=0.02897976152598858 \n",
            "Iteration 3000 done loss_ic_total=0.004372033290565014 loss_ode_total=0.024363284930586815 \n",
            "Iteration 3500 done loss_ic_total=0.001224070554599166 loss_ode_total=0.01434871181845665 \n",
            "Iteration 4000 done loss_ic_total=0.0012335698120296001 loss_ode_total=0.014232773333787918 \n",
            "Iteration 4500 done loss_ic_total=0.0011480869725346565 loss_ode_total=0.0142092015594244 \n",
            "Iteration 5000 done loss_ic_total=0.0011485788272693753 loss_ode_total=0.014199387282133102 \n",
            "Iteration 5500 done loss_ic_total=0.0011484590359032154 loss_ode_total=0.014195207506418228 \n",
            "Iteration 6000 done loss_ic_total=0.0011482866248115897 loss_ode_total=0.014190023764967918 \n",
            "Iteration 6500 done loss_ic_total=0.0011481513502076268 loss_ode_total=0.01418653130531311 \n",
            "Iteration 7000 done loss_ic_total=0.0011479497188702226 loss_ode_total=0.014181540347635746 \n",
            "Iteration 7500 done loss_ic_total=0.0011478137457743287 loss_ode_total=0.014177816919982433 \n",
            "Iteration 8000 done loss_ic_total=0.0011476322542876005 loss_ode_total=0.014172064140439034 \n",
            "Iteration 8500 done loss_ic_total=0.0011475071078166366 loss_ode_total=0.014167536050081253 \n",
            "Iteration 9000 done loss_ic_total=0.0011472995392978191 loss_ode_total=0.01416030153632164 \n",
            "Iteration 9500 done loss_ic_total=0.0011471820762380958 loss_ode_total=0.014154447242617607 \n",
            "Iteration 10000 done loss_ic_total=0.001147014438174665 loss_ode_total=0.014145070686936378 \n",
            "Iteration 10500 done loss_ic_total=0.00114686437882483 loss_ode_total=0.01413774210959673 \n",
            "Iteration 11000 done loss_ic_total=0.0011466642608866096 loss_ode_total=0.014126614667475224 \n",
            "Iteration 11500 done loss_ic_total=0.0011465252609923482 loss_ode_total=0.01411847211420536 \n",
            "Iteration 12000 done loss_ic_total=0.0011463421396911144 loss_ode_total=0.014107130467891693 \n",
            "Iteration 12500 done loss_ic_total=0.0011462306138128042 loss_ode_total=0.014099547639489174 \n",
            "Iteration 13000 done loss_ic_total=0.0011461148969829082 loss_ode_total=0.014089856296777725 \n",
            "Iteration 13500 done loss_ic_total=0.0011460677487775683 loss_ode_total=0.01408387441188097 \n",
            "Iteration 14000 done loss_ic_total=0.0011460520327091217 loss_ode_total=0.014076732099056244 \n",
            "Iteration 14500 done loss_ic_total=0.0011460718233138323 loss_ode_total=0.014072572812438011 \n",
            "Iteration 15000 done loss_ic_total=0.001146128517575562 loss_ode_total=0.014067849144339561 \n",
            "Iteration 15500 done loss_ic_total=0.0011462377151474357 loss_ode_total=0.014065153896808624 \n"
          ]
        }
      ]
    },
    {
      "cell_type": "markdown",
      "source": [
        "- Using ode solver to generate ground truth values\n",
        "- Running the model on testing dataset and calulating mean ode residual."
      ],
      "metadata": {
        "id": "v78DTsUvaYjg"
      }
    },
    {
      "cell_type": "code",
      "source": [
        "#using ode solver to calculate ground truth values\n",
        "def two_body_equations(y,t,m1,m2):\n",
        "    '''\n",
        "    x1,x2,v1,v2 are state variables\n",
        "    t(float):time\n",
        "    m1,m2(float):mass of bodies\n",
        "    it returns array: derivatives of state variables\n",
        "    '''\n",
        "    r1=y[0:2]\n",
        "    v1=y[2:4]\n",
        "    r2=y[4:6]\n",
        "    v2=y[6:8]\n",
        "    r=np.linalg.norm(r2-r1) #distance between bodies\n",
        "    a1=G*m2*(r2-r1)/r**3  #acceleration of bodies\n",
        "    a2=G*m1*(r1-r2)/r**3\n",
        "    #return the derivatives\n",
        "    return np.concatenate((v1,a1,v2,a2))\n",
        "initial_state=np.array([x10[0],x10[1],v10[0],v10[1],x20[0],x20[1],v20[0],v20[1]])\n",
        "\n",
        "#testing time data  for the ode\n",
        "t_test=np.linspace(0,1,300)\n",
        "#solving the ode\n",
        "solution=odeint(two_body_equations,initial_state,t_test,args=(m1,m2))\n",
        "#The solution array contains the state variables at each time point\n",
        "x_gt = solution[:, [0, 1, 4, 5]]\n",
        "\n",
        "t_test_tensor = torch.tensor(t_test, dtype=torch.float32, requires_grad=True).view(-1, 1)\n",
        "x_pred=pinn(t_test_tensor).detach().numpy()*max_pos\n",
        "\n",
        "\n",
        "#calculating mean ode residual for testing points\n",
        "u=pinn(t_test_tensor)\n",
        "v1=torch.autograd.grad(u[:,0:2],t_test_tensor,torch.ones_like(u[:,0:2]),create_graph=True)[0]\n",
        "v2=torch.autograd.grad(u[:,2:4],t_test_tensor,torch.ones_like(u[:,2:4]),create_graph=True)[0]\n",
        "a1=torch.autograd.grad(v1,t_test_tensor,torch.ones_like(v1),create_graph=True)[0]\n",
        "a2=torch.autograd.grad(v2,t_test_tensor,torch.ones_like(v2),create_graph=True)[0]\n",
        "r_cube = torch.norm(u[:, 0:2] - u[:, 2:4], dim=1, keepdim=True)**3 + 1e-8\n",
        "loss_ode_m2=torch.sum((a2[:, 0:2] - (u[:, 0:2] - u[:,2:4])*m1*G/r_cube)**2, dim=1, keepdim=True)\n",
        "loss_ode_m1=torch.sum((a1[:, 0:2] - (u[:, 2:4] - u[:,0:2])*m2*G/r_cube)**2, dim=1, keepdim=True)\n",
        "mean_loss_ode_total= torch.mean(loss_ode_m1+loss_ode_m2)\n",
        "print(f\"Mean ODE residual across test cases= {mean_loss_ode_total}\")"
      ],
      "metadata": {
        "colab": {
          "base_uri": "https://localhost:8080/"
        },
        "id": "StjANgHGA-k3",
        "outputId": "672d49ac-9d44-417f-f10a-bb948f61fac3"
      },
      "execution_count": null,
      "outputs": [
        {
          "output_type": "stream",
          "name": "stdout",
          "text": [
            "Mean ODE residual across test cases= 0.028135821223258972\n"
          ]
        }
      ]
    },
    {
      "cell_type": "markdown",
      "source": [
        "Calculating MAE"
      ],
      "metadata": {
        "id": "2Mq2fvhUat37"
      }
    },
    {
      "cell_type": "code",
      "source": [
        "#calculating mae of predicted trajectory vs ground truth\n",
        "mae = np.mean(np.abs(x_pred - x_gt))\n",
        "print(f\"Mean Absolute Error (MAE): {mae:.6f}\")"
      ],
      "metadata": {
        "colab": {
          "base_uri": "https://localhost:8080/"
        },
        "id": "6ZRY8RgEBBEL",
        "outputId": "b3864ecc-7658-4217-f154-f11a82ceb10e"
      },
      "execution_count": null,
      "outputs": [
        {
          "output_type": "stream",
          "name": "stdout",
          "text": [
            "Mean Absolute Error (MAE): 0.036467\n"
          ]
        }
      ]
    },
    {
      "cell_type": "markdown",
      "source": [
        "Plotting the trajectories"
      ],
      "metadata": {
        "id": "jWq1iRVcayGy"
      }
    },
    {
      "cell_type": "code",
      "source": [
        "#plotting the trajectories\n",
        "plt.figure(figsize=(10, 6))\n",
        "plt.plot(x_gt[:, 0], x_gt[:, 1], 'b-', label='Body 1 (Ground Truth)')\n",
        "plt.plot(x_pred[:, 0], x_pred[:, 1], 'b--', label='Body 1 (PINN)')\n",
        "plt.plot(x_gt[:, 2], x_gt[:, 3], 'r-', label='Body 2 (Ground Truth)')\n",
        "plt.plot(x_pred[:, 2], x_pred[:, 3], 'r--', label='Body 2 (PINN)')\n",
        "plt.xlabel('X Position')\n",
        "plt.ylabel('Y Position')\n",
        "plt.title('Two-Body Problem: PINN vs Ground Truth')\n",
        "plt.legend()\n",
        "plt.grid(True)\n",
        "plt.axis('equal')\n",
        "plt.savefig('two_body_trajectories.png')\n",
        "plt.show()"
      ],
      "metadata": {
        "colab": {
          "base_uri": "https://localhost:8080/",
          "height": 512
        },
        "id": "w74b9hQ-BDpl",
        "outputId": "9eaeffa6-352d-4da9-f633-de432267368e"
      },
      "execution_count": null,
      "outputs": [
        {
          "output_type": "display_data",
          "data": {
            "text/plain": [
              "<Figure size 1000x600 with 1 Axes>"
            ],
            "image/png": "[encoded data removed]"
          },
          "metadata": {}
        }
      ]
    },
    {
      "cell_type": "markdown",
      "source": [
        "Predicting position of planets at given user input time"
      ],
      "metadata": {
        "id": "EMufWiufa2V1"
      }
    },
    {
      "cell_type": "code",
      "source": [
        "#predicted x1 and x2 at user input time t_pred\n",
        "t_pred_tensor= torch.tensor([[t_pred]], dtype=torch.float32)\n",
        "x_t_pred= pinn(t_pred_tensor).detach().cpu().numpy()*max_pos\n",
        "x1= [x_t_pred[0, 0], x_t_pred[0, 1]]\n",
        "x2= [x_t_pred[0, 2], x_t_pred[0, 3]]\n",
        "print(f\"Predicted position of body 1 (x1) at time {t_pred} = ({x1[0]:.6f},{x1[1]:.6f})\")\n",
        "print(f\"Predicted position of body 2 (x2) at time {t_pred} = ({x2[0]:.6f},{x2[1]:.6f})\")\n",
        "solution2=odeint(two_body_equations,initial_state,[0,t_pred],args=(m1,m2))\n",
        "x_gt2 = solution2[:, [0, 1, 4, 5]]\n",
        "x12= [x_gt2[1,0], x_gt2[1,1]]\n",
        "x22= [x_gt2[1,2], x_gt2[1,3]]\n",
        "print(f\"Actual position of body 1 (x1) at time {t_pred} = ({x12[0]:.6f},{x12[1]:.6f})\")\n",
        "print(f\"Actual position of body 2 (x2) at time {t_pred} = ({x22[0]:.6f},{x22[1]:.6f})\")"
      ],
      "metadata": {
        "colab": {
          "base_uri": "https://localhost:8080/"
        },
        "id": "RnxxAxDMeu1v",
        "outputId": "2989b60f-a279-4eec-e523-c8f19fba0d84"
      },
      "execution_count": null,
      "outputs": [
        {
          "output_type": "stream",
          "name": "stdout",
          "text": [
            "Predicted position of body 1 (x1) at time 0.5 = (-1.015807,-0.266432)\n",
            "Predicted position of body 2 (x2) at time 0.5 = (1.016168,0.266070)\n",
            "Actual position of body 1 (x1) at time 0.5 = (-0.968912,-0.247404)\n",
            "Actual position of body 2 (x2) at time 0.5 = (0.968912,0.247404)\n"
          ]
        }
      ]
    }
  ]
}